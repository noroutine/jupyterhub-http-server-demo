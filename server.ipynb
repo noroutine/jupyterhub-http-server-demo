{
 "cells": [
  {
   "cell_type": "code",
   "execution_count": null,
   "id": "cd89c3aa-81f5-4037-8b62-9e6cda051c24",
   "metadata": {},
   "outputs": [
    {
     "name": "stdout",
     "output_type": "stream",
     "text": [
      "Server started http://localhost:8080\n"
     ]
    },
    {
     "name": "stderr",
     "output_type": "stream",
     "text": [
      "127.0.0.1 - - [22/Sep/2022 09:03:48] \"GET / HTTP/1.1\" 200 -\n",
      "127.0.0.1 - - [22/Sep/2022 09:03:56] \"GET / HTTP/1.1\" 200 -\n",
      "127.0.0.1 - - [22/Sep/2022 09:06:07] \"GET / HTTP/1.1\" 200 -\n",
      "127.0.0.1 - - [22/Sep/2022 09:06:20] \"GET / HTTP/1.1\" 200 -\n",
      "127.0.0.1 - - [22/Sep/2022 09:07:12] \"GET / HTTP/1.1\" 200 -\n",
      "127.0.0.1 - - [22/Sep/2022 09:07:19] \"GET / HTTP/1.1\" 200 -\n",
      "127.0.0.1 - - [22/Sep/2022 09:07:34] \"GET / HTTP/1.1\" 200 -\n"
     ]
    }
   ],
   "source": [
    "# Python 3 server example\n",
    "from http.server import BaseHTTPRequestHandler, HTTPServer\n",
    "import time\n",
    "\n",
    "hostName = \"localhost\"\n",
    "serverPort = 8080\n",
    "\n",
    "class MyServer(BaseHTTPRequestHandler):\n",
    "    def do_GET(self):\n",
    "        self.send_response(200)\n",
    "        self.send_header(\"Content-type\", \"text/html\")\n",
    "        self.end_headers()\n",
    "        self.wfile.write(bytes(\"<html><head><title>https://pythonbasics.org</title></head>\", \"utf-8\"))\n",
    "        self.wfile.write(bytes(\"<p>Request: %s</p>\" % self.path, \"utf-8\"))\n",
    "        self.wfile.write(bytes(\"<body>\", \"utf-8\"))\n",
    "        self.wfile.write(bytes(\"<p>This is an example web server.</p>\", \"utf-8\"))\n",
    "        self.wfile.write(bytes(\"</body></html>\", \"utf-8\"))\n",
    "\n",
    "webServer = HTTPServer((hostName, serverPort), MyServer)\n",
    "print(\"Server started http://%s:%s\" % (hostName, serverPort))\n",
    "\n",
    "webServer.serve_forever()\n"
   ]
  },
  {
   "cell_type": "code",
   "execution_count": null,
   "id": "074a7383-16c4-46c0-bf94-e610ad62ab0c",
   "metadata": {},
   "outputs": [],
   "source": []
  }
 ],
 "metadata": {
  "kernelspec": {
   "display_name": "Python 3 (ipykernel)",
   "language": "python",
   "name": "python3"
  },
  "language_info": {
   "codemirror_mode": {
    "name": "ipython",
    "version": 3
   },
   "file_extension": ".py",
   "mimetype": "text/x-python",
   "name": "python",
   "nbconvert_exporter": "python",
   "pygments_lexer": "ipython3",
   "version": "3.10.4"
  }
 },
 "nbformat": 4,
 "nbformat_minor": 5
}
