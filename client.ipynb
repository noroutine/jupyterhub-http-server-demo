{
 "cells": [
  {
   "cell_type": "code",
   "execution_count": 5,
   "id": "dc353f45-af54-4e25-8ad2-09db3f548bee",
   "metadata": {},
   "outputs": [
    {
     "data": {
      "text/plain": [
       "b'<html><head><title>https://pythonbasics.org</title></head><p>Request: /</p><body><p>This is an example web server.</p></body></html>'"
      ]
     },
     "execution_count": 5,
     "metadata": {},
     "output_type": "execute_result"
    }
   ],
   "source": [
    "import requests\n",
    "r =requests.get('http://localhost:8080/')\n",
    "r.status_code\n",
    "r.content"
   ]
  },
  {
   "cell_type": "raw",
   "id": "f1fb8cb1-10ef-4a13-9a8b-ee5cf6321a9c",
   "metadata": {},
   "source": []
  }
 ],
 "metadata": {
  "kernelspec": {
   "display_name": "Python 3 (ipykernel)",
   "language": "python",
   "name": "python3"
  },
  "language_info": {
   "codemirror_mode": {
    "name": "ipython",
    "version": 3
   },
   "file_extension": ".py",
   "mimetype": "text/x-python",
   "name": "python",
   "nbconvert_exporter": "python",
   "pygments_lexer": "ipython3",
   "version": "3.10.4"
  }
 },
 "nbformat": 4,
 "nbformat_minor": 5
}
